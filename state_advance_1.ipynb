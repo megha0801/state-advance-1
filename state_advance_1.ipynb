{
  "cells": [
    {
      "cell_type": "markdown",
      "source": [
        "1. What is a random variable in probability theory?\n",
        "\n",
        "-> A random variable in probability theory is a numerical value that represents the outcome of a random event. It assigns a real number to each possible outcome in a sample space."
      ],
      "metadata": {
        "id": "IhuPqYNr6iBq"
      }
    },
    {
      "cell_type": "markdown",
      "source": [
        "2. What are the types of random variables?\n",
        "\n",
        "-> There are two types of random variables in probability theory:\n",
        "\n",
        "1. Discrete random variable\n",
        "2. Continuous random variable"
      ],
      "metadata": {
        "id": "_B56OxE37Cwc"
      }
    },
    {
      "cell_type": "markdown",
      "source": [
        "3. What is the difference between discrete and continuous distributions?\n",
        "\n",
        "-> The difference between discrete and continuous distributions lies in the type of value they represent and how probabilities are calculated:\n",
        "\n",
        "1. Discrete distribution:\n",
        "\n",
        "\n",
        "* Represents a finite or countable set of values.\n",
        "\n",
        "* Probabilities are assigned to individual outcomes.\n",
        "\n",
        "* Uses a probability mass function.\n",
        "\n",
        "2. Continuous distribution:\n",
        "\n",
        "* Represents an infinite set of possible values within a range.\n",
        "\n",
        "* Probabilities are assigned to intervals, not individual points.\n",
        "\n",
        "* Uses a probability density function.\n",
        "\n",
        "\n",
        "\n"
      ],
      "metadata": {
        "id": "A6-DypJ87mZz"
      }
    },
    {
      "cell_type": "markdown",
      "source": [
        "4. What are probability distribution functions (PDF)?\n",
        "\n",
        "-> A probability distribution function describes the likelihood of a random variable taking on specific values."
      ],
      "metadata": {
        "id": "A7kUjePV9GA6"
      }
    },
    {
      "cell_type": "markdown",
      "source": [
        "5. How do cumulative distribution functions (CDF) differ from probability distribution functions (PDF)?\n",
        "\n",
        "-> The probability distribution function shows the likelihood of a random variable taking a specific value or falling within a range. In contrast, the cumulative distribution function represents the cumulative probability that the variable is less than or equal to a given value. WHile the PDF focuses on individual probabilities, the CDF shows the accumulation of probabilites up to a certain point."
      ],
      "metadata": {
        "id": "IGfAIetK9oLy"
      }
    },
    {
      "cell_type": "markdown",
      "source": [
        "6. What is a discrete uniform distribution?\n",
        "\n",
        "-> A discrete uniform distribution is a type of probability distribution where all outcomes have an equal likelihood of occuring. It is defined by a finite set of values with the same probability."
      ],
      "metadata": {
        "id": "IU6khlMK-xjs"
      }
    },
    {
      "cell_type": "markdown",
      "source": [
        "7. What are the key properties of a Bernoulli distribution?\n",
        "\n",
        "->\n",
        "1. Two possible outcomes\n",
        "2. Probability of success and failure\n",
        "3. Mean\n",
        "4. Variance\n",
        "5. Memoryless"
      ],
      "metadata": {
        "id": "o-ApG3OI_S2a"
      }
    },
    {
      "cell_type": "markdown",
      "source": [
        "8. What is the binomial distribution, and how is it used in probability?\n",
        "\n",
        "-> The binomial distribution is a discrete probability distribution that models the numbers of successes in a fixed number of independent trials, where each trial has only two possible outcomes: Success or Failure.\n",
        "\n",
        "-> Usage in probability:\n",
        "\n",
        "1. Modeling success/Failure events\n",
        "2. Predicting probabilities\n",
        "3. Real-life example"
      ],
      "metadata": {
        "id": "JuOFffpD_ycB"
      }
    },
    {
      "cell_type": "markdown",
      "source": [
        "9. What is the Poisson distribution and where is it applied?\n",
        "\n",
        "-> The poisson distribution is a discrete probability distribution that models the number of events occuring in a fixed interval of time interval of time or space, given a known average rate of occurrence."
      ],
      "metadata": {
        "id": "3eMxHAopAleR"
      }
    },
    {
      "cell_type": "markdown",
      "source": [
        "10. What is a continuous uniform distribution?\n",
        "\n",
        "-> A continuous uniform distribution is a probability distribution where all values within a given range are equally likely to occur. It is defined by two parameters:\n",
        "\n",
        "a - Lower bound\n",
        "\n",
        "b - Upper bound"
      ],
      "metadata": {
        "id": "Aru6UNaJBZIO"
      }
    },
    {
      "cell_type": "markdown",
      "source": [
        "11. What are the characteristics of a normal distribution?\n",
        "\n",
        "->\n",
        "1. Bell-shaped curve\n",
        "2. Mean, median, and Mode are equal\n",
        "3. Defined by mean and standard deviation\n",
        "4. 68-95-99.7 rule\n",
        "5. Asymptotic\n",
        "6. Total area under the curve = 1"
      ],
      "metadata": {
        "id": "aIbXMzH5CGUQ"
      }
    },
    {
      "cell_type": "markdown",
      "source": [
        "12. What is the standard normal distribution, and why is it important?\n",
        "\n",
        "-> The standard normal distribution is a special case of the normal distribution where:\n",
        "\n",
        "* The mean = 0\n",
        "* The standard deviation = 1\n",
        "\n",
        "-> Importance:\n",
        "\n",
        "1. Simplifies probability calculations\n",
        "2. Standardization\n",
        "3. Hypothesis testing and confidence intervals\n",
        "\n"
      ],
      "metadata": {
        "id": "S5JFBCkeCqQC"
      }
    },
    {
      "cell_type": "markdown",
      "source": [
        "13. What is the Central Limit Theorem (CLT), and why is it critical in statistics?\n",
        "\n",
        "-> The central limit theorem states that the sampling distribution of the sample mean approaches a normal distribution as the sample size increases, regardless of the population's original distribution.\n",
        "\n",
        "-> Importance in statistics:\n",
        "\n",
        "1. Enables inferential statistics\n",
        "2. Justifies large sample methods\n",
        "3. Foundation of many statistical tests"
      ],
      "metadata": {
        "id": "X01LL3C6DuA6"
      }
    },
    {
      "cell_type": "markdown",
      "source": [
        "14. How does the Central Limit Theorem relate to the normal distribution?\n",
        "\n",
        "-> The central limit theorem relates to the normal distribution by stating that, as the sample size increases, the sampling distribution of the sample mean approaches a normal distribution, regardless of the shape of the original population distribution."
      ],
      "metadata": {
        "id": "yZ1Iy9LjE89M"
      }
    },
    {
      "cell_type": "markdown",
      "source": [
        "15. What is the application of Z statistics in hypothesis testing?\n",
        "\n",
        "-> The Z-statistic is widely used in hypothesis testing to determine whether a sample mean significantly differs from a known population mean."
      ],
      "metadata": {
        "id": "w4BezTbOF4cq"
      }
    },
    {
      "cell_type": "markdown",
      "source": [
        "16. How do you calculate a Z-score, and what does it represent?\n",
        "\n",
        "-> A Z-score measures how many standard deviations a data point is from the mean of a distribution.\n",
        "\n",
        "-> What it represents:\n",
        "\n",
        "1. Position relative to the mean\n",
        "2. Standardized vaalue\n",
        "3. Probability interpretation"
      ],
      "metadata": {
        "id": "3NfTmOnhGXf_"
      }
    },
    {
      "cell_type": "markdown",
      "source": [
        "17. What are point estimates and interval estimates in statistics?\n",
        "\n",
        "-> Point estimates and interval estimates are two methods used to estimate population parameters based on sample data."
      ],
      "metadata": {
        "id": "-jSK23KcHVfz"
      }
    },
    {
      "cell_type": "markdown",
      "source": [
        "18. What is the significance of confidence intervals in statistical analysis?\n",
        "\n",
        "-> Confidence intervals play a crucial role in statistical analysis by providing a range of vales that is likely to contain the true population parameter with a certain level of confidence."
      ],
      "metadata": {
        "id": "VHBItjBuH5ia"
      }
    },
    {
      "cell_type": "markdown",
      "source": [
        "19. What is the relationship between a Z-score and a confidence interval?\n",
        "\n",
        "-> The relationship between a Z-score and a confidence interval lies in how the Z-score determines the range of values around the mean for a given confidence level."
      ],
      "metadata": {
        "id": "c95OyssRIWmF"
      }
    },
    {
      "cell_type": "markdown",
      "source": [
        "20. How are Z-scores used to compare different distributions?\n",
        "\n",
        "-> Z-scores are used to compare different distributions by standardizing data to a common scale, regardless of the original mean and standard deviation."
      ],
      "metadata": {
        "id": "n1xvUjyKI1N1"
      }
    },
    {
      "cell_type": "markdown",
      "source": [
        "21. What are the assumptions for applying the Central Limit Theorem?\n",
        "\n",
        "->\n",
        "\n",
        "1. Independence\n",
        "2. Random sampling\n",
        "3. Sample size\n",
        "4. Finite variance\n",
        "5. Identically distributes\n",
        ""
      ],
      "metadata": {
        "id": "-Co5l1DZJSD3"
      }
    },
    {
      "cell_type": "markdown",
      "source": [
        "22. What is the concept of expected value in a probability distribution?\n",
        "\n",
        "-> The expected value in a probability distribution is the theoretical average or mean of all possible outcomes, weighted by their probabilities. It represents the long-term average result if the experiment is repeated many times."
      ],
      "metadata": {
        "id": "4AMDw5UhJuKI"
      }
    },
    {
      "cell_type": "markdown",
      "source": [
        "23. How does a probability distribution relate to the expected outcome of a random variable?\n",
        "\n",
        "-> A probability distribution defines the likelihood of different outcomes for a random variable, while the expected outcome represents the thoretical average of those outcomes over many trials."
      ],
      "metadata": {
        "id": "t7us4hrCKVFK"
      }
    }
  ],
  "metadata": {
    "colab": {
      "provenance": []
    },
    "kernelspec": {
      "display_name": "Python 3",
      "name": "python3"
    },
    "language_info": {
      "name": "python"
    }
  },
  "nbformat": 4,
  "nbformat_minor": 0
}